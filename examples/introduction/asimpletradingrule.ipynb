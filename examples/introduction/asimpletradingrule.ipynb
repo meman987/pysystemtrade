{
 "cells": [
  {
   "cell_type": "markdown",
   "metadata": {},
   "source": [
    "# Simple Trading Rule"
   ]
  },
  {
   "cell_type": "code",
   "execution_count": 3,
   "metadata": {},
   "outputs": [],
   "source": [
    "from sysdata.sim.csv_futures_sim_data import csvFuturesSimData\n",
    "import matplotlib.pyplot as plt\n",
    "%matplotlib inline"
   ]
  },
  {
   "cell_type": "markdown",
   "metadata": {},
   "source": [
    "Work up a minimum example of a trend following system"
   ]
  },
  {
   "cell_type": "markdown",
   "metadata": {},
   "source": [
    "Let's get some data\n",
    "\n",
    "We can get data from various places; however for now we're going to use\n",
    "prepackaged 'legacy' data stored in csv files"
   ]
  },
  {
   "cell_type": "code",
   "execution_count": 4,
   "metadata": {},
   "outputs": [
    {
     "data": {
      "text/plain": [
       "csvFuturesSimData object with 239 instruments"
      ]
     },
     "execution_count": 4,
     "metadata": {},
     "output_type": "execute_result"
    }
   ],
   "source": [
    "data = csvFuturesSimData()\n",
    "data"
   ]
  },
  {
   "cell_type": "markdown",
   "metadata": {},
   "source": [
    "We get stuff out of data with methods"
   ]
  },
  {
   "cell_type": "code",
   "execution_count": 6,
   "metadata": {},
   "outputs": [
    {
     "name": "stdout",
     "output_type": "stream",
     "text": [
      "['EUR_mini', 'CHF_micro', 'EU-HOUSE', 'NASDAQ', 'MXP', 'US-PROPERTY', 'EU-AUTO', 'HOUSE-US', 'BRENT-LAST', 'CHFJPY', 'EUR_micro', 'SP500', 'GAS-PEN', 'MSCIEAFA', 'V2X', 'EPRA-EUROPE', 'EU-HEALTH', 'EURIBOR-ICE', 'NZD', 'RUSSELL', 'MILK', 'FEEDCOW', 'BUTTER', 'GOLD_micro', 'ETHER-micro', 'EU-DJ-TECH', 'EURCHF', 'SP500_micro', 'EU-UTILS', 'US2', 'HANG', 'SOYMEAL', 'ETHANOL', 'GAS_US_mini', 'SHATZ', 'GOLD-mini', 'CNH', 'US20', 'CRUDE_ICE', 'GASOILINE_micro', 'DJSTX-SMALL', 'SWISSLEAD', 'EUA', 'FTSE100', 'KOSDAQ', 'CORN', 'AUDJPY', 'IRS', 'IRON', 'CANOLA', 'EU-MEDIA', 'HANGENT', 'KOSPI', 'EURCAD', 'EU-FOOD', 'SP400', 'AUD_micro', 'BUND', 'VIX_mini', 'ZAR', 'BB3M', 'CRUDE_W', 'EUROSTX', 'SMI-MID', 'JPY_mini', 'BUXL', 'WHEAT', 'EU-INSURE', 'MSCITAIWAN', 'VIX', 'SONIA3', 'NASDAQ_micro', 'GILT', 'OATIES', 'FTSECHINAH', 'CAD10', 'SEK', 'PALLAD', 'EU-DJ-TELECOM', 'KR10', 'RUR', 'RUBBER', 'EURAUD', 'SMI', 'EU-RETAIL', 'BTP', 'EUROSTX-LARGE', 'CAC', 'SGD', 'COPPER-mini', 'US-ENERGY', 'REDWHEAT', 'LEAD_LME', 'COPPER', 'SOYBEAN_mini', 'US-TECH', 'JP-REALESTATE', 'EU-DJ-OIL', 'TWD', 'CAD_micro', 'COTTON2', 'EU-REALESTATE', 'CZK', 'COTTON', 'JGB-mini', 'BOVESPA', 'SPI200', 'KOSPI_mini', 'AUD', 'HANG_mini', 'MSCIWORLD', 'MIB', 'GOLD', 'DAX', 'YENEUR', 'COCOA_LDN', 'GBPCHF', 'JPY', 'AEX_mini', 'BITCOIN', 'HEATOIL', 'GICS', 'JGB', 'US10U', 'MILKWET', 'GASOILINE_ICE', 'IG', 'GAS_US', 'FTSECHINAA', 'US5', 'CORN_mini', 'BOBL', 'SGD_mini', 'GBP', 'US-HEALTH', 'FTSEINDO', 'TIN_LME', 'MSCISING', 'CNH-onshore', 'EU-BANKS', 'GBPJPY', 'EU-MID', 'US-MATERIAL', 'ZINC_LME', 'ALUMINIUM', 'CAD', 'NICKEL_LME', 'AEX', 'EURIBOR', 'US-UTILS', 'KRWUSD_mini', 'MILLWHEAT', 'LIVECOW', 'HANGTECH', 'US-INDUSTRY', 'R1000', 'EU-BASIC', 'JGB-SGX-mini', 'SOYBEAN', 'CHINAA-CON', 'SARONA', 'MSCIASIA', 'MSCIEMASIA', 'EU-TRAVEL', 'MILKDRY', 'BTP3', 'EU-CONSTRUCTION', 'TOPIX', 'SUGAR11', 'GASOIL', 'GAS-LAST', 'EU-CHEM', 'COCOA', 'CAD5', 'OMX', 'NIKKEI400', 'DOW', 'BONO', 'EU-DJ-UTIL', 'CH10', 'US-STAPLES', 'INR', 'PLN', 'CRUDE_W_mini', 'LEANHOG', 'GBP_micro', 'COFFEE', 'STEEL', 'EUROSTX-SMALL', 'CHEESE', 'MUMMY', 'BRE', 'IBEX', 'KRWUSD', 'US-DISCRETE', 'EU-TECH', 'SOYOIL', 'HANGENT_mini', 'EUR', 'TWD-mini', 'US10', 'FTSEVIET', 'EUROSTX200-LARGE', 'ROBUSTA', 'FTSETAIWAN', 'BBCOMM', 'DOW_mini', 'NOK', 'CLP', 'WHEY', 'CHF', 'ETHEREUM', 'US-REALESTATE', 'US3', 'VNKI', 'ALUMINIUM_LME', 'US30', 'FED', 'COPPER_LME', 'WHEAT_mini', 'SGX', 'LUMBER-new', 'SOFR', 'EU-OIL', 'US-FINANCE', 'BRENT_W', 'PLAT', 'COPPER-micro', 'NIKKEI', 'OAT', 'EURO600', 'GASOILINE', 'EU-DIV30', 'RUSSELL_mini', 'CRUDE_W_micro', 'GBPEUR', 'SILVER', 'KR3', 'RICE']\n",
      "index\n",
      "2023-08-31 16:00:00    1.0847\n",
      "2023-08-31 17:00:00    1.0848\n",
      "2023-08-31 18:00:00    1.0856\n",
      "2023-08-31 19:00:00    1.0852\n",
      "2023-08-31 20:00:00    1.0857\n",
      "Name: price, dtype: float64\n"
     ]
    }
   ],
   "source": [
    "print(data.get_instrument_list())\n",
    "print(data.get_raw_price(\"EUR_mini\").tail(5))"
   ]
  },
  {
   "cell_type": "markdown",
   "metadata": {},
   "source": [
    "data can also behave in a dict like manner (though it's not a dict)"
   ]
  },
  {
   "cell_type": "code",
   "execution_count": 7,
   "metadata": {},
   "outputs": [
    {
     "data": {
      "text/plain": [
       "index\n",
       "1982-09-14 23:00:00     516.65\n",
       "1982-09-15 23:00:00     517.15\n",
       "1982-09-16 23:00:00     516.50\n",
       "1982-09-17 23:00:00     515.60\n",
       "1982-09-20 23:00:00     516.40\n",
       "                        ...   \n",
       "2023-08-30 17:00:00    4528.25\n",
       "2023-08-30 18:00:00    4521.50\n",
       "2023-08-30 19:00:00    4525.50\n",
       "2023-08-30 20:00:00    4522.75\n",
       "2023-08-30 23:00:00    4527.00\n",
       "Name: price, Length: 34592, dtype: float64"
      ]
     },
     "execution_count": 7,
     "metadata": {},
     "output_type": "execute_result"
    }
   ],
   "source": [
    "data['SP500']"
   ]
  },
  {
   "cell_type": "code",
   "execution_count": 8,
   "metadata": {},
   "outputs": [
    {
     "data": {
      "text/plain": [
       "['EUR_mini',\n",
       " 'CHF_micro',\n",
       " 'EU-HOUSE',\n",
       " 'NASDAQ',\n",
       " 'MXP',\n",
       " 'US-PROPERTY',\n",
       " 'EU-AUTO',\n",
       " 'HOUSE-US',\n",
       " 'BRENT-LAST',\n",
       " 'CHFJPY',\n",
       " 'EUR_micro',\n",
       " 'SP500',\n",
       " 'GAS-PEN',\n",
       " 'MSCIEAFA',\n",
       " 'V2X',\n",
       " 'EPRA-EUROPE',\n",
       " 'EU-HEALTH',\n",
       " 'EURIBOR-ICE',\n",
       " 'NZD',\n",
       " 'RUSSELL',\n",
       " 'MILK',\n",
       " 'FEEDCOW',\n",
       " 'BUTTER',\n",
       " 'GOLD_micro',\n",
       " 'ETHER-micro',\n",
       " 'EU-DJ-TECH',\n",
       " 'EURCHF',\n",
       " 'SP500_micro',\n",
       " 'EU-UTILS',\n",
       " 'US2',\n",
       " 'HANG',\n",
       " 'SOYMEAL',\n",
       " 'ETHANOL',\n",
       " 'GAS_US_mini',\n",
       " 'SHATZ',\n",
       " 'GOLD-mini',\n",
       " 'CNH',\n",
       " 'US20',\n",
       " 'CRUDE_ICE',\n",
       " 'GASOILINE_micro',\n",
       " 'DJSTX-SMALL',\n",
       " 'SWISSLEAD',\n",
       " 'EUA',\n",
       " 'FTSE100',\n",
       " 'KOSDAQ',\n",
       " 'CORN',\n",
       " 'AUDJPY',\n",
       " 'IRS',\n",
       " 'IRON',\n",
       " 'CANOLA',\n",
       " 'EU-MEDIA',\n",
       " 'HANGENT',\n",
       " 'KOSPI',\n",
       " 'EURCAD',\n",
       " 'EU-FOOD',\n",
       " 'SP400',\n",
       " 'AUD_micro',\n",
       " 'BUND',\n",
       " 'VIX_mini',\n",
       " 'ZAR',\n",
       " 'BB3M',\n",
       " 'CRUDE_W',\n",
       " 'EUROSTX',\n",
       " 'SMI-MID',\n",
       " 'JPY_mini',\n",
       " 'BUXL',\n",
       " 'WHEAT',\n",
       " 'EU-INSURE',\n",
       " 'MSCITAIWAN',\n",
       " 'VIX',\n",
       " 'SONIA3',\n",
       " 'NASDAQ_micro',\n",
       " 'GILT',\n",
       " 'OATIES',\n",
       " 'FTSECHINAH',\n",
       " 'CAD10',\n",
       " 'SEK',\n",
       " 'PALLAD',\n",
       " 'EU-DJ-TELECOM',\n",
       " 'KR10',\n",
       " 'RUR',\n",
       " 'RUBBER',\n",
       " 'EURAUD',\n",
       " 'SMI',\n",
       " 'EU-RETAIL',\n",
       " 'BTP',\n",
       " 'EUROSTX-LARGE',\n",
       " 'CAC',\n",
       " 'SGD',\n",
       " 'COPPER-mini',\n",
       " 'US-ENERGY',\n",
       " 'REDWHEAT',\n",
       " 'LEAD_LME',\n",
       " 'COPPER',\n",
       " 'SOYBEAN_mini',\n",
       " 'US-TECH',\n",
       " 'JP-REALESTATE',\n",
       " 'EU-DJ-OIL',\n",
       " 'TWD',\n",
       " 'CAD_micro',\n",
       " 'COTTON2',\n",
       " 'EU-REALESTATE',\n",
       " 'CZK',\n",
       " 'COTTON',\n",
       " 'JGB-mini',\n",
       " 'BOVESPA',\n",
       " 'SPI200',\n",
       " 'KOSPI_mini',\n",
       " 'AUD',\n",
       " 'HANG_mini',\n",
       " 'MSCIWORLD',\n",
       " 'MIB',\n",
       " 'GOLD',\n",
       " 'DAX',\n",
       " 'YENEUR',\n",
       " 'COCOA_LDN',\n",
       " 'GBPCHF',\n",
       " 'JPY',\n",
       " 'AEX_mini',\n",
       " 'BITCOIN',\n",
       " 'HEATOIL',\n",
       " 'GICS',\n",
       " 'JGB',\n",
       " 'US10U',\n",
       " 'MILKWET',\n",
       " 'GASOILINE_ICE',\n",
       " 'IG',\n",
       " 'GAS_US',\n",
       " 'FTSECHINAA',\n",
       " 'US5',\n",
       " 'CORN_mini',\n",
       " 'BOBL',\n",
       " 'SGD_mini',\n",
       " 'GBP',\n",
       " 'US-HEALTH',\n",
       " 'FTSEINDO',\n",
       " 'TIN_LME',\n",
       " 'MSCISING',\n",
       " 'CNH-onshore',\n",
       " 'EU-BANKS',\n",
       " 'GBPJPY',\n",
       " 'EU-MID',\n",
       " 'US-MATERIAL',\n",
       " 'ZINC_LME',\n",
       " 'ALUMINIUM',\n",
       " 'CAD',\n",
       " 'NICKEL_LME',\n",
       " 'AEX',\n",
       " 'EURIBOR',\n",
       " 'US-UTILS',\n",
       " 'KRWUSD_mini',\n",
       " 'MILLWHEAT',\n",
       " 'LIVECOW',\n",
       " 'HANGTECH',\n",
       " 'US-INDUSTRY',\n",
       " 'R1000',\n",
       " 'EU-BASIC',\n",
       " 'JGB-SGX-mini',\n",
       " 'SOYBEAN',\n",
       " 'CHINAA-CON',\n",
       " 'SARONA',\n",
       " 'MSCIASIA',\n",
       " 'MSCIEMASIA',\n",
       " 'EU-TRAVEL',\n",
       " 'MILKDRY',\n",
       " 'BTP3',\n",
       " 'EU-CONSTRUCTION',\n",
       " 'TOPIX',\n",
       " 'SUGAR11',\n",
       " 'GASOIL',\n",
       " 'GAS-LAST',\n",
       " 'EU-CHEM',\n",
       " 'COCOA',\n",
       " 'CAD5',\n",
       " 'OMX',\n",
       " 'NIKKEI400',\n",
       " 'DOW',\n",
       " 'BONO',\n",
       " 'EU-DJ-UTIL',\n",
       " 'CH10',\n",
       " 'US-STAPLES',\n",
       " 'INR',\n",
       " 'PLN',\n",
       " 'CRUDE_W_mini',\n",
       " 'LEANHOG',\n",
       " 'GBP_micro',\n",
       " 'COFFEE',\n",
       " 'STEEL',\n",
       " 'EUROSTX-SMALL',\n",
       " 'CHEESE',\n",
       " 'MUMMY',\n",
       " 'BRE',\n",
       " 'IBEX',\n",
       " 'KRWUSD',\n",
       " 'US-DISCRETE',\n",
       " 'EU-TECH',\n",
       " 'SOYOIL',\n",
       " 'HANGENT_mini',\n",
       " 'EUR',\n",
       " 'TWD-mini',\n",
       " 'US10',\n",
       " 'FTSEVIET',\n",
       " 'EUROSTX200-LARGE',\n",
       " 'ROBUSTA',\n",
       " 'FTSETAIWAN',\n",
       " 'BBCOMM',\n",
       " 'DOW_mini',\n",
       " 'NOK',\n",
       " 'CLP',\n",
       " 'WHEY',\n",
       " 'CHF',\n",
       " 'ETHEREUM',\n",
       " 'US-REALESTATE',\n",
       " 'US3',\n",
       " 'VNKI',\n",
       " 'ALUMINIUM_LME',\n",
       " 'US30',\n",
       " 'FED',\n",
       " 'COPPER_LME',\n",
       " 'WHEAT_mini',\n",
       " 'SGX',\n",
       " 'LUMBER-new',\n",
       " 'SOFR',\n",
       " 'EU-OIL',\n",
       " 'US-FINANCE',\n",
       " 'BRENT_W',\n",
       " 'PLAT',\n",
       " 'COPPER-micro',\n",
       " 'NIKKEI',\n",
       " 'OAT',\n",
       " 'EURO600',\n",
       " 'GASOILINE',\n",
       " 'EU-DIV30',\n",
       " 'RUSSELL_mini',\n",
       " 'CRUDE_W_micro',\n",
       " 'GBPEUR',\n",
       " 'SILVER',\n",
       " 'KR3',\n",
       " 'RICE']"
      ]
     },
     "execution_count": 8,
     "metadata": {},
     "output_type": "execute_result"
    }
   ],
   "source": [
    "data.keys()"
   ]
  },
  {
   "cell_type": "markdown",
   "metadata": {},
   "source": [
    "... however this will only access prices\n",
    "(note these prices have already been backadjusted for rolls)\n",
    "\n",
    "We have extra futures data here"
   ]
  },
  {
   "cell_type": "code",
   "execution_count": 10,
   "metadata": {},
   "outputs": [
    {
     "data": {
      "text/html": [
       "<div>\n",
       "<style scoped>\n",
       "    .dataframe tbody tr th:only-of-type {\n",
       "        vertical-align: middle;\n",
       "    }\n",
       "\n",
       "    .dataframe tbody tr th {\n",
       "        vertical-align: top;\n",
       "    }\n",
       "\n",
       "    .dataframe thead th {\n",
       "        text-align: right;\n",
       "    }\n",
       "</style>\n",
       "<table border=\"1\" class=\"dataframe\">\n",
       "  <thead>\n",
       "    <tr style=\"text-align: right;\">\n",
       "      <th></th>\n",
       "      <th>PRICE</th>\n",
       "      <th>CARRY</th>\n",
       "      <th>PRICE_CONTRACT</th>\n",
       "      <th>CARRY_CONTRACT</th>\n",
       "    </tr>\n",
       "    <tr>\n",
       "      <th>index</th>\n",
       "      <th></th>\n",
       "      <th></th>\n",
       "      <th></th>\n",
       "      <th></th>\n",
       "    </tr>\n",
       "  </thead>\n",
       "  <tbody>\n",
       "    <tr>\n",
       "      <th>2023-08-31 15:00:00</th>\n",
       "      <td>1.0862</td>\n",
       "      <td>1.0902</td>\n",
       "      <td>20230900</td>\n",
       "      <td>20231200</td>\n",
       "    </tr>\n",
       "    <tr>\n",
       "      <th>2023-08-31 16:00:00</th>\n",
       "      <td>1.0847</td>\n",
       "      <td>1.0892</td>\n",
       "      <td>20230900</td>\n",
       "      <td>20231200</td>\n",
       "    </tr>\n",
       "    <tr>\n",
       "      <th>2023-08-31 17:00:00</th>\n",
       "      <td>1.0848</td>\n",
       "      <td>1.0896</td>\n",
       "      <td>20230900</td>\n",
       "      <td>20231200</td>\n",
       "    </tr>\n",
       "    <tr>\n",
       "      <th>2023-08-31 18:00:00</th>\n",
       "      <td>1.0856</td>\n",
       "      <td>1.0903</td>\n",
       "      <td>20230900</td>\n",
       "      <td>20231200</td>\n",
       "    </tr>\n",
       "    <tr>\n",
       "      <th>2023-08-31 19:00:00</th>\n",
       "      <td>1.0852</td>\n",
       "      <td>1.0909</td>\n",
       "      <td>20230900</td>\n",
       "      <td>20231200</td>\n",
       "    </tr>\n",
       "    <tr>\n",
       "      <th>2023-08-31 20:00:00</th>\n",
       "      <td>1.0857</td>\n",
       "      <td>1.0904</td>\n",
       "      <td>20230900</td>\n",
       "      <td>20231200</td>\n",
       "    </tr>\n",
       "  </tbody>\n",
       "</table>\n",
       "</div>"
      ],
      "text/plain": [
       "                      PRICE   CARRY PRICE_CONTRACT CARRY_CONTRACT\n",
       "index                                                            \n",
       "2023-08-31 15:00:00  1.0862  1.0902       20230900       20231200\n",
       "2023-08-31 16:00:00  1.0847  1.0892       20230900       20231200\n",
       "2023-08-31 17:00:00  1.0848  1.0896       20230900       20231200\n",
       "2023-08-31 18:00:00  1.0856  1.0903       20230900       20231200\n",
       "2023-08-31 19:00:00  1.0852  1.0909       20230900       20231200\n",
       "2023-08-31 20:00:00  1.0857  1.0904       20230900       20231200"
      ]
     },
     "execution_count": 10,
     "metadata": {},
     "output_type": "execute_result"
    }
   ],
   "source": [
    "data.get_instrument_raw_carry_data(\"EUR_mini\").tail(6)"
   ]
  },
  {
   "cell_type": "markdown",
   "metadata": {},
   "source": [
    "Technical note: csvFuturesSimData inherits from FuturesData which itself inherits from simData\n",
    "The chain is 'data specific' <- 'asset class specific' <- 'generic'\n",
    "\n",
    "Let's create a simple trading rule\n",
    "\n",
    "No capping or scaling"
   ]
  },
  {
   "cell_type": "code",
   "execution_count": 11,
   "metadata": {},
   "outputs": [],
   "source": [
    "import pandas as pd\n",
    "from sysquant.estimators.vol import robust_vol_calc\n",
    "\n",
    "\n",
    "def calc_ewmac_forecast(price, Lfast, Lslow=None):\n",
    "    \"\"\"\n",
    "    Calculate the ewmac trading rule forecast, given a price and EWMA speeds\n",
    "    Lfast, Lslow and vol_lookback\n",
    "\n",
    "    \"\"\"\n",
    "    # price: This is the stitched price series\n",
    "    # We can't use the price of the contract we're trading, or the volatility\n",
    "    # will be jumpy\n",
    "    # And we'll miss out on the rolldown. See\n",
    "    # https://qoppac.blogspot.com/2015/05/systems-building-futures-rolling.html\n",
    "\n",
    "    price = price.resample(\"1B\").last()\n",
    "\n",
    "    if Lslow is None:\n",
    "        Lslow = 4 * Lfast\n",
    "\n",
    "    # We don't need to calculate the decay parameter, just use the span\n",
    "    # directly\n",
    "    fast_ewma = price.ewm(span=Lfast).mean()\n",
    "    slow_ewma = price.ewm(span=Lslow).mean()\n",
    "    raw_ewmac = fast_ewma - slow_ewma\n",
    "    vol = robust_vol_calc(price.diff())\n",
    "    return raw_ewmac / vol"
   ]
  },
  {
   "cell_type": "markdown",
   "metadata": {},
   "source": [
    "\n",
    "Try it out\n",
    "\n",
    "(this isn't properly scaled at this stage of course)\n"
   ]
  },
  {
   "cell_type": "code",
   "execution_count": 12,
   "metadata": {},
   "outputs": [
    {
     "data": {
      "text/plain": [
       "index\n",
       "2023-08-25    0.556786\n",
       "2023-08-28    0.406036\n",
       "2023-08-29    0.325390\n",
       "2023-08-30    0.306612\n",
       "2023-08-31    0.195944\n",
       "Freq: B, Name: price, dtype: float64"
      ]
     },
     "execution_count": 12,
     "metadata": {},
     "output_type": "execute_result"
    }
   ],
   "source": [
    "instrument_code = 'EUR_mini'\n",
    "price = data.daily_prices(instrument_code)\n",
    "ewmac = calc_ewmac_forecast(price, 32, 128)\n",
    "ewmac.columns = ['forecast']\n",
    "ewmac.tail(5)"
   ]
  },
  {
   "cell_type": "code",
   "execution_count": 13,
   "metadata": {},
   "outputs": [
    {
     "data": {
      "text/plain": [
       "Text(0.5, 0, 'Time')"
      ]
     },
     "execution_count": 13,
     "metadata": {},
     "output_type": "execute_result"
    },
    {
     "data": {
      "image/png": "[encoded data removed]",
      "text/plain": [
       "<Figure size 640x480 with 1 Axes>"
      ]
     },
     "metadata": {},
     "output_type": "display_data"
    }
   ],
   "source": [
    "ewmac.plot();\n",
    "plt.title('Forecast')\n",
    "plt.ylabel('Position')\n",
    "plt.xlabel('Time')"
   ]
  },
  {
   "cell_type": "markdown",
   "metadata": {},
   "source": [
    "\n",
    "Did we make money?\n"
   ]
  },
  {
   "cell_type": "code",
   "execution_count": 14,
   "metadata": {},
   "outputs": [
    {
     "data": {
      "image/png": "[encoded data removed]",
      "text/plain": [
       "<Figure size 640x480 with 1 Axes>"
      ]
     },
     "metadata": {},
     "output_type": "display_data"
    }
   ],
   "source": [
    "from systems.accounts.account_forecast import pandl_for_instrument_forecast\n",
    "account = pandl_for_instrument_forecast(forecast=ewmac, price = price)\n",
    "account.curve().plot();\n",
    "plt.title('Profit and Loss')\n",
    "plt.ylabel('PnL')\n",
    "plt.xlabel('Time');"
   ]
  },
  {
   "cell_type": "code",
   "execution_count": 15,
   "metadata": {},
   "outputs": [
    {
     "data": {
      "text/plain": [
       "[[('min', '-3.877'),\n",
       "  ('max', '4.757'),\n",
       "  ('median', '0'),\n",
       "  ('mean', '0.01074'),\n",
       "  ('std', '0.4395'),\n",
       "  ('skew', '0.1104'),\n",
       "  ('ann_mean', '2.75'),\n",
       "  ('ann_std', '7.033'),\n",
       "  ('sharpe', '0.3911'),\n",
       "  ('sortino', '0.4889'),\n",
       "  ('avg_drawdown', '-7.378'),\n",
       "  ('time_in_drawdown', '0.9745'),\n",
       "  ('calmar', '0.1403'),\n",
       "  ('avg_return_to_drawdown', '0.3728'),\n",
       "  ('avg_loss', '-0.2768'),\n",
       "  ('avg_gain', '0.2865'),\n",
       "  ('gaintolossratio', '1.035'),\n",
       "  ('profitfactor', '1.084'),\n",
       "  ('hitrate', '0.5115'),\n",
       "  ('t_stat', '1.953'),\n",
       "  ('p_value', '0.05086')],\n",
       " ('You can also plot / print:',\n",
       "  ['rolling_ann_std', 'drawdown', 'curve', 'percent'])]"
      ]
     },
     "execution_count": 15,
     "metadata": {},
     "output_type": "execute_result"
    }
   ],
   "source": [
    "account.percent.stats()"
   ]
  },
  {
   "cell_type": "code",
   "execution_count": null,
   "metadata": {},
   "outputs": [],
   "source": []
  }
 ],
 "metadata": {
  "kernelspec": {
   "display_name": "Python 3 (ipykernel)",
   "language": "python",
   "name": "python3"
  },
  "language_info": {
   "codemirror_mode": {
    "name": "ipython",
    "version": 3
   },
   "file_extension": ".py",
   "mimetype": "text/x-python",
   "name": "python",
   "nbconvert_exporter": "python",
   "pygments_lexer": "ipython3",
   "version": "3.10.12"
  }
 },
 "nbformat": 4,
 "nbformat_minor": 4
}
